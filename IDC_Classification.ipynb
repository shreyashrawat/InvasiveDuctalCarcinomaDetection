{
  "nbformat": 4,
  "nbformat_minor": 0,
  "metadata": {
    "colab": {
      "name": "IDC_Classification.ipynb",
      "provenance": [],
      "authorship_tag": "ABX9TyNzt3v4nqbS35B6DFT97wPd",
      "include_colab_link": true
    },
    "kernelspec": {
      "name": "python3",
      "display_name": "Python 3"
    }
  },
  "cells": [
    {
      "cell_type": "markdown",
      "metadata": {
        "id": "view-in-github",
        "colab_type": "text"
      },
      "source": [
        "<a href=\"https://colab.research.google.com/github/shreyashrawat/InvasiveDuctalCarcinomaDetection/blob/master/IDC_Classification.ipynb\" target=\"_parent\"><img src=\"https://colab.research.google.com/assets/colab-badge.svg\" alt=\"Open In Colab\"/></a>"
      ]
    },
    {
      "cell_type": "markdown",
      "metadata": {
        "id": "qku7dMrRGLdx",
        "colab_type": "text"
      },
      "source": [
        "# https://www.kaggle.com/shreyashrawat/keras-acc-91"
      ]
    },
    {
      "cell_type": "markdown",
      "metadata": {
        "id": "8-U3KYSsGT9A",
        "colab_type": "text"
      },
      "source": [
        "Please Give it an upvote if you like it"
      ]
    },
    {
      "cell_type": "code",
      "metadata": {
        "id": "IIyueu3MGXgD",
        "colab_type": "code",
        "colab": {}
      },
      "source": [
        ""
      ],
      "execution_count": 0,
      "outputs": []
    }
  ]
}